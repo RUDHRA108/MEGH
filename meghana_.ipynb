{
  "nbformat": 4,
  "nbformat_minor": 0,
  "metadata": {
    "colab": {
      "provenance": [],
      "authorship_tag": "ABX9TyPNBetMcNSDU9VotiYxeEXz",
      "include_colab_link": true
    },
    "kernelspec": {
      "name": "python3",
      "display_name": "Python 3"
    },
    "language_info": {
      "name": "python"
    }
  },
  "cells": [
    {
      "cell_type": "markdown",
      "metadata": {
        "id": "view-in-github",
        "colab_type": "text"
      },
      "source": [
        "<a href=\"https://colab.research.google.com/github/RUDHRA108/MEGH/blob/main/meghana_.ipynb\" target=\"_parent\"><img src=\"https://colab.research.google.com/assets/colab-badge.svg\" alt=\"Open In Colab\"/></a>"
      ]
    },
    {
      "cell_type": "code",
      "execution_count": null,
      "metadata": {
        "colab": {
          "base_uri": "https://localhost:8080/"
        },
        "id": "dpu0X10LSAYo",
        "outputId": "01473e1b-abff-4e79-d33a-37201ddd52d6"
      },
      "outputs": [
        {
          "output_type": "stream",
          "name": "stdout",
          "text": [
            "enter first number :55\n",
            "enter second number:78\n",
            "b is greatest\n"
          ]
        }
      ],
      "source": [
        "#input two numbers to find the equivalent of two numbers#\n",
        "a=int(input('enter first number :'))\n",
        "b=int(input('enter second number:'))\n",
        "if(a>b):\n",
        "  print('a is greatest:')\n",
        "\n",
        "elif(b>a):\n",
        "  print('b is greatest')\n",
        "elif(a==b):\n",
        "  print('all are equal')"
      ]
    },
    {
      "cell_type": "code",
      "source": [
        "tth=foh=toh=oh=fif=twt=ten=five=two=one=0\n",
        "amt=int(input(\"enter amount is rupees\"))\n",
        "if(amt>=2000):\n",
        "    tth=amt//2000\n",
        "    amt=amt%2000\n",
        "print(\"2000=\",tth)\n",
        "if(amt>=500):\n",
        "    foh=amt//500\n",
        "    amt=amt%500\n",
        "print(\"500=\",foh)\n",
        "if(amt>=200):\n",
        "    toh=amt//200\n",
        "    amt=amt%200\n",
        "print(\"200=\",toh)\n",
        "if(amt>=100):\n",
        "    oh=amt//100\n",
        "    amt=amt%100\n",
        "print(\"100=\",oh)\n",
        "if(amt>=50):\n",
        "    fif=amt//50\n",
        "    amt=amt%50\n",
        "print(\"50=\",fif)\n",
        "if(amt>=20):\n",
        "    twt=amt//20\n",
        "    amt=amt%20\n",
        "print(\"20=\",twt)\n",
        "if(amt>=10):\n",
        "    ten=amt//10\n",
        "    amt=amt%10\n",
        "print(\"10=\",ten)\n",
        "if(amt>=5):\n",
        "    five=amt//5\n",
        "    amt=amt%5\n",
        "print(\"5=\",five)\n",
        "if(amt>=2):\n",
        "    two=amt//2\n",
        "    amt=amt%2\n",
        "print(\"2=\",two)\n",
        "if(amt>=1):\n",
        "    one=amt//1\n",
        "    amt=amt%1\n",
        "print(\"1=\",one)\n"
      ],
      "metadata": {
        "colab": {
          "base_uri": "https://localhost:8080/"
        },
        "id": "Ptbvns3yTZ-Y",
        "outputId": "9d9a2334-20f0-4724-a2b9-9d45a980ba4d"
      },
      "execution_count": null,
      "outputs": [
        {
          "output_type": "stream",
          "name": "stdout",
          "text": [
            "enter amount is rupees548758\n",
            "2000= 274\n",
            "500= 1\n",
            "200= 1\n",
            "100= 0\n",
            "50= 1\n",
            "20= 0\n",
            "10= 0\n",
            "5= 1\n",
            "2= 1\n",
            "1= 1\n"
          ]
        }
      ]
    },
    {
      "cell_type": "markdown",
      "source": [],
      "metadata": {
        "id": "4y3vCOwtUjE7"
      }
    },
    {
      "cell_type": "code",
      "source": [
        "#swapping of two numbers without using 3rd variable#\n",
        "\n",
        "x = 5\n",
        "y = 7\n",
        "\n",
        "print (\"Before swapping: \")\n",
        "print(\"Value of x : \", x, \" and y : \", y)\n",
        "\n",
        "# code to swap 'x' and 'y'\n",
        "x, y = y, x\n",
        "\n",
        "print (\"After swapping: \")\n",
        "print(\"Value of x : \", x, \" and y : \", y)"
      ],
      "metadata": {
        "id": "R75at31Cbqfe",
        "colab": {
          "base_uri": "https://localhost:8080/"
        },
        "outputId": "e4c4e96d-2477-411b-e139-56c38e3ed517"
      },
      "execution_count": null,
      "outputs": [
        {
          "output_type": "stream",
          "name": "stdout",
          "text": [
            "Before swapping: \n",
            "Value of x :  5  and y :  7\n",
            "After swapping: \n",
            "Value of x :  7  and y :  5\n"
          ]
        }
      ]
    },
    {
      "cell_type": "code",
      "source": [
        "#swapping of two numbers without using 3rd variable#\n",
        "a=int(input(\"enter value of A:\"))\n",
        "b=int(input(\"enter value of B:\"))\n",
        "print(\"A = {} and B = {}\".format(a,b))\n",
        "a=a+b\n",
        "b=a-b\n",
        "a=a-b\n",
        "print(\"now,A = {} and B = {}\".format(a,b))"
      ],
      "metadata": {
        "colab": {
          "base_uri": "https://localhost:8080/"
        },
        "id": "3yoXivMU20rs",
        "outputId": "351e5630-674c-4c5a-bdba-cf6158267072"
      },
      "execution_count": null,
      "outputs": [
        {
          "output_type": "stream",
          "name": "stdout",
          "text": [
            "enter value of A:1\n",
            "enter value of B:2\n",
            "A = 1 and B = 2\n",
            "now,A = 2 and B = 1\n"
          ]
        }
      ]
    },
    {
      "cell_type": "code",
      "source": [
        "#swapping of two numbers without using 3rd variable#\n",
        "a=int(input(\"enter value of A:\"))\n",
        "b=int(input(\"enter value of B:\"))\n",
        "print(\"before swapping ,A = {} and B = {}\".format(a,b))\n",
        "a=a+b\n",
        "b=a-b\n",
        "a=a-b\n",
        "print(\"after swapping ,A = {} and B = {}\".format(a,b))"
      ],
      "metadata": {
        "colab": {
          "base_uri": "https://localhost:8080/"
        },
        "id": "kgT35TEY3-Tk",
        "outputId": "7e34a0c4-b782-46be-a578-2938ded7ecc9"
      },
      "execution_count": null,
      "outputs": [
        {
          "output_type": "stream",
          "name": "stdout",
          "text": [
            "enter value of A:75\n",
            "enter value of B:95\n",
            "before swapping ,A = 75 and B = 95\n",
            "after swapping ,A = 95 and B = 75\n"
          ]
        }
      ]
    },
    {
      "cell_type": "code",
      "source": [
        "#input radius and find the area of circle#\n",
        "\n",
        "# Import the 'pi' constant from the 'math' module to calculate the area of a circle\n",
        "from math import pi\n",
        "\n",
        "# Prompt the user to input the radius of the circle\n",
        "r = float(input(\"Input the radius of the circle : \"))\n",
        "\n",
        "# Calculate the area of the circle using the formula: area = π * r^2\n",
        "area = pi * r ** 2\n",
        "\n",
        "# Display the result, including the radius and calculated area\n",
        "print(\"The area of the circle with radius \" + str(r) + \" is: \" + str(area))\n"
      ],
      "metadata": {
        "colab": {
          "base_uri": "https://localhost:8080/"
        },
        "id": "6PnqEuXB42L1",
        "outputId": "9f1c4374-7685-489a-8114-24e7c7b038b0"
      },
      "execution_count": null,
      "outputs": [
        {
          "output_type": "stream",
          "name": "stdout",
          "text": [
            "Input the radius of the circle : 5.5\n",
            "The area of the circle with radius 5.5 is: 95.03317777109125\n"
          ]
        }
      ]
    },
    {
      "cell_type": "code",
      "source": [
        "#input radius and find the area of circle#\n",
        "PI = 3.14\n",
        "r = float(input(\"Enter the radius of a circle:\"))\n",
        "area = PI * r * r\n",
        "print(\"Area of a circle = %.2f\" %area)"
      ],
      "metadata": {
        "colab": {
          "base_uri": "https://localhost:8080/"
        },
        "id": "vE9b3rZ66ToC",
        "outputId": "f544d488-b69c-4d6f-8f70-da82f2b85ab5"
      },
      "execution_count": null,
      "outputs": [
        {
          "output_type": "stream",
          "name": "stdout",
          "text": [
            "Enter the radius of a circle:5.4\n",
            "Area of a circle = 91.56\n"
          ]
        }
      ]
    },
    {
      "cell_type": "code",
      "source": [
        "a=input('Enter Name:')"
      ],
      "metadata": {
        "colab": {
          "base_uri": "https://localhost:8080/",
          "height": 263
        },
        "id": "ZPGZFo28XvBu",
        "outputId": "47a32cf6-0fda-42ee-ba69-3a888f920417"
      },
      "execution_count": null,
      "outputs": [
        {
          "output_type": "error",
          "ename": "NameError",
          "evalue": "name 'Meghana' is not defined",
          "traceback": [
            "\u001b[0;31m---------------------------------------------------------------------------\u001b[0m",
            "\u001b[0;31mNameError\u001b[0m                                 Traceback (most recent call last)",
            "\u001b[0;32m<ipython-input-4-f3ca637bbd3c>\u001b[0m in \u001b[0;36m<cell line: 1>\u001b[0;34m()\u001b[0m\n\u001b[0;32m----> 1\u001b[0;31m \u001b[0mName\u001b[0m\u001b[0;34m=\u001b[0m\u001b[0mMeghana\u001b[0m\u001b[0;34m\u001b[0m\u001b[0;34m\u001b[0m\u001b[0m\n\u001b[0m\u001b[1;32m      2\u001b[0m \u001b[0mRoll\u001b[0m\u001b[0;34m=\u001b[0m\u001b[0;36m9\u001b[0m\u001b[0;34m\u001b[0m\u001b[0;34m\u001b[0m\u001b[0m\n\u001b[1;32m      3\u001b[0m \u001b[0mSec\u001b[0m\u001b[0;34m=\u001b[0m\u001b[0mA\u001b[0m\u001b[0;34m\u001b[0m\u001b[0;34m\u001b[0m\u001b[0m\n\u001b[1;32m      4\u001b[0m \u001b[0mPrint\u001b[0m\u001b[0;34m(\u001b[0m\u001b[0mName\u001b[0m\u001b[0;34m)\u001b[0m\u001b[0;34m\u001b[0m\u001b[0;34m\u001b[0m\u001b[0m\n\u001b[1;32m      5\u001b[0m \u001b[0mPrint\u001b[0m\u001b[0;34m(\u001b[0m\u001b[0mRoll\u001b[0m\u001b[0;34m)\u001b[0m\u001b[0;34m\u001b[0m\u001b[0;34m\u001b[0m\u001b[0m\n",
            "\u001b[0;31mNameError\u001b[0m: name 'Meghana' is not defined"
          ]
        }
      ]
    },
    {
      "cell_type": "markdown",
      "source": [
        "LOOPS:\n",
        "\"FOR AND WHILE\"\n",
        "for variable in range\n",
        "1)starting loop\n",
        "2)ending value(excluding)\n",
        "3)step value(optional by defualt 1)\n",
        "for loop (syntax)\n",
        "for variable in range(starting val,ending val, step val{is optional}\n",
        "statement 1\n",
        ".\n",
        ".\n",
        ".\n",
        ".\n",
        ".\n",
        "statement n\n",
        "eg:\n",
        "v in range(1,20,1)\n",
        ".\n",
        ".\n",
        ".\n",
        ".\n",
        ".\n",
        "10\n",
        "\n",
        "print\n",
        "for v in range(10,0,-1):\n",
        "print(v)\n",
        "output:\n",
        "10\n",
        "9\n",
        "8\n",
        ".\n",
        ".\n",
        ".\n",
        "\n",
        "1)Table of n\n"
      ],
      "metadata": {
        "id": "npZafkqTbRou"
      }
    },
    {
      "cell_type": "markdown",
      "source": [
        "**TABLE OF N**"
      ],
      "metadata": {
        "id": "NZQVOqsXsZh2"
      }
    },
    {
      "cell_type": "code",
      "source": [
        "number=int(input(\"enter a number:\"))\n",
        "for count in range(1,11):\n",
        "  print(number,'x',count,'=',number*count)"
      ],
      "metadata": {
        "colab": {
          "base_uri": "https://localhost:8080/"
        },
        "id": "jM_X1wOfdF-X",
        "outputId": "aa2f465e-bd66-456c-b21d-89e5e9db9d6d"
      },
      "execution_count": null,
      "outputs": [
        {
          "output_type": "stream",
          "name": "stdout",
          "text": [
            "enter a number:5\n",
            "5 x 1 = 5\n",
            "5 x 2 = 10\n",
            "5 x 3 = 15\n",
            "5 x 4 = 20\n",
            "5 x 5 = 25\n",
            "5 x 6 = 30\n",
            "5 x 7 = 35\n",
            "5 x 8 = 40\n",
            "5 x 9 = 45\n",
            "5 x 10 = 50\n"
          ]
        }
      ]
    },
    {
      "cell_type": "code",
      "source": [
        "a=0\n",
        "b=1\n",
        "c=0\n",
        "for i in range(0,20):\n",
        "  print(\"the fibonacci series c\")\n",
        "  a=b\n",
        "  b=c\n",
        "  c=a+b"
      ],
      "metadata": {
        "colab": {
          "base_uri": "https://localhost:8080/"
        },
        "id": "nHrlflGKgwKl",
        "outputId": "ceba466b-6e88-4dcd-9de2-84286051b697"
      },
      "execution_count": null,
      "outputs": [
        {
          "output_type": "stream",
          "name": "stdout",
          "text": [
            "the fibonacci series c\n",
            "the fibonacci series c\n",
            "the fibonacci series c\n",
            "the fibonacci series c\n",
            "the fibonacci series c\n",
            "the fibonacci series c\n",
            "the fibonacci series c\n",
            "the fibonacci series c\n",
            "the fibonacci series c\n",
            "the fibonacci series c\n",
            "the fibonacci series c\n",
            "the fibonacci series c\n",
            "the fibonacci series c\n",
            "the fibonacci series c\n",
            "the fibonacci series c\n",
            "the fibonacci series c\n",
            "the fibonacci series c\n",
            "the fibonacci series c\n",
            "the fibonacci series c\n",
            "the fibonacci series c\n"
          ]
        }
      ]
    },
    {
      "cell_type": "code",
      "source": [
        "a=b\n",
        "b=c\n",
        "c=a+b\n",
        "for i in range(0,20):\n",
        "  print(\"the fibonacci series b\")\n",
        "  a=b\n",
        "  b=c\n",
        "  c=a+b"
      ],
      "metadata": {
        "colab": {
          "base_uri": "https://localhost:8080/"
        },
        "id": "97NffKfCiGLM",
        "outputId": "628bdcf3-5592-4368-829b-57182892da7a"
      },
      "execution_count": null,
      "outputs": [
        {
          "output_type": "stream",
          "name": "stdout",
          "text": [
            "the fibonacci series b\n",
            "the fibonacci series b\n",
            "the fibonacci series b\n",
            "the fibonacci series b\n",
            "the fibonacci series b\n",
            "the fibonacci series b\n",
            "the fibonacci series b\n",
            "the fibonacci series b\n",
            "the fibonacci series b\n",
            "the fibonacci series b\n",
            "the fibonacci series b\n",
            "the fibonacci series b\n",
            "the fibonacci series b\n",
            "the fibonacci series b\n",
            "the fibonacci series b\n",
            "the fibonacci series b\n",
            "the fibonacci series b\n",
            "the fibonacci series b\n",
            "the fibonacci series b\n",
            "the fibonacci series b\n"
          ]
        }
      ]
    },
    {
      "cell_type": "code",
      "source": [
        "s=0\n",
        "n=int(input(\"input a number:\"))\n",
        "for i in range(1,n+1):\n",
        "  s=s+pow(i,i)\n",
        "  print(\"sum=\",s)\n",
        "  s=s+i"
      ],
      "metadata": {
        "colab": {
          "base_uri": "https://localhost:8080/"
        },
        "id": "T6IMcWN4iTHh",
        "outputId": "f2873600-d65c-4cfc-95af-6a5b9aea7beb"
      },
      "execution_count": null,
      "outputs": [
        {
          "output_type": "stream",
          "name": "stdout",
          "text": [
            "input a number:7\n",
            "sum= 1\n",
            "sum= 6\n",
            "sum= 35\n",
            "sum= 294\n",
            "sum= 3423\n",
            "sum= 50084\n",
            "sum= 873633\n"
          ]
        }
      ]
    },
    {
      "cell_type": "markdown",
      "source": [
        "Q)input n & find no's is prime or odd?\n",
        "       |s%1=0\n",
        "       |s%2=0\n",
        "       |s%3=0\n",
        " s-----|s%4=0\n",
        "       |s%5=0\n",
        "       |s%6=0\n",
        "    "
      ],
      "metadata": {
        "id": "mWah3au2kcmq"
      }
    },
    {
      "cell_type": "code",
      "source": [
        "n=int(input(\"enter a number you want to check if its prime or not:\"))\n",
        "if(a/2==0):\n",
        "  print(\"the number you entered is not prime\")\n",
        "else :\n",
        "  print(\"the number you entered is prime\")"
      ],
      "metadata": {
        "colab": {
          "base_uri": "https://localhost:8080/"
        },
        "id": "znlYbwlYlc8X",
        "outputId": "40967a7e-541b-4c8d-95ab-1fca9e04e202"
      },
      "execution_count": null,
      "outputs": [
        {
          "output_type": "stream",
          "name": "stdout",
          "text": [
            "enter a number you want to check if its prime or not:5\n",
            "the number you entered is prime\n"
          ]
        }
      ]
    },
    {
      "cell_type": "code",
      "source": [
        "a=1\n",
        "while a<=20:\n",
        "  print(a)\n",
        "  a=a+1\n"
      ],
      "metadata": {
        "colab": {
          "base_uri": "https://localhost:8080/"
        },
        "id": "WApl0c3-nu_F",
        "outputId": "ee959dbf-2c5d-456a-f003-cf5b043f71fd"
      },
      "execution_count": null,
      "outputs": [
        {
          "output_type": "stream",
          "name": "stdout",
          "text": [
            "1\n",
            "2\n",
            "3\n",
            "4\n",
            "5\n",
            "6\n",
            "7\n",
            "8\n",
            "9\n",
            "10\n",
            "11\n",
            "12\n",
            "13\n",
            "14\n",
            "15\n",
            "16\n",
            "17\n",
            "18\n",
            "19\n",
            "20\n"
          ]
        }
      ]
    },
    {
      "cell_type": "code",
      "source": [
        "a=5\n",
        "while a>=5:\n",
        "  print(a)\n",
        "  a=a-1"
      ],
      "metadata": {
        "colab": {
          "base_uri": "https://localhost:8080/"
        },
        "id": "ask1aJxvoIpZ",
        "outputId": "3fcd67c7-4b8a-4106-9531-c42d59412d5e"
      },
      "execution_count": null,
      "outputs": [
        {
          "output_type": "stream",
          "name": "stdout",
          "text": [
            "5\n"
          ]
        }
      ]
    },
    {
      "cell_type": "markdown",
      "source": [
        "enter first 10 odd numbers"
      ],
      "metadata": {
        "id": "t0r8xtwqpJk8"
      }
    },
    {
      "cell_type": "code",
      "source": [
        "print(\"the first 10 odd numbers using while loop:\")\n",
        "a=0\n",
        "while a<=10\n",
        "if()"
      ],
      "metadata": {
        "id": "HpQb0Keko0DP"
      },
      "execution_count": null,
      "outputs": []
    },
    {
      "cell_type": "markdown",
      "source": [
        "Q)input a no n and find the sum of the digits\n",
        "eg:123\n",
        "should print 1+2+3=6\n",
        "\n",
        "you can use n//10-----> the last digit gets erased eg.12//10 will give us 1 insted of 1.2\n",
        "\n",
        "**RULES**\n",
        "n//10=no.remins without last digit\n",
        "n%10=lost digit\n",
        "n//100=no remains without last 2digits\n",
        "n%10=lost 2digit\n",
        "--------------------------------------\n",
        "small//large=0\n",
        "small%large=small\n"
      ],
      "metadata": {
        "id": "nlwyYkiIpxX7"
      }
    },
    {
      "cell_type": "code",
      "source": [
        "s=0\n",
        "n=int(input(\"enter n digit no.:\"))\n",
        "while n>0:\n",
        "  d=n%10\n",
        "  s=s+d\n",
        "  n=n//10\n",
        "  print(\"sum of digits \",s)\n"
      ],
      "metadata": {
        "colab": {
          "base_uri": "https://localhost:8080/"
        },
        "id": "32skcsAMq8f0",
        "outputId": "6164f118-3fdb-4b6c-dd61-649536f97395"
      },
      "execution_count": null,
      "outputs": [
        {
          "output_type": "stream",
          "name": "stdout",
          "text": [
            "enter n digit no.:5\n",
            "sum of digits  5\n"
          ]
        }
      ]
    },
    {
      "cell_type": "code",
      "source": [
        "s=7\n",
        "n=int(input(\"enter n digit no.:\"))\n",
        "while n>0:\n",
        "  d=n%10\n",
        "  s=s+d\n",
        "  n=n//10\n",
        "  print(\"sum of digits \",s)\n",
        "\n"
      ],
      "metadata": {
        "colab": {
          "base_uri": "https://localhost:8080/"
        },
        "id": "UAb_9J4JrtZa",
        "outputId": "6553c2e5-79e8-4a27-dfe2-52a394c25a3a"
      },
      "execution_count": null,
      "outputs": [
        {
          "output_type": "stream",
          "name": "stdout",
          "text": [
            "enter n digit no.:5\n",
            "sum of digits  12\n"
          ]
        }
      ]
    },
    {
      "cell_type": "code",
      "source": [
        "s=0\n",
        "n=int(input(\"enter n digit no.:\"))\n",
        "while n>0:\n",
        "  d=n%10\n",
        "  s=s+d\n",
        "  n=n//10\n",
        "  print(\"sum of digits \",s)\n",
        "  s=0\n",
        "n=int(input(\"enter n digit no.:\"))\n",
        "while n>0:\n",
        "  d=n%10\n",
        "  s=s+d\n",
        "  n=n//100\n",
        "  print(\"sum of digits \",s)\n"
      ],
      "metadata": {
        "colab": {
          "base_uri": "https://localhost:8080/"
        },
        "id": "9u37MN_isw_v",
        "outputId": "270060ff-8d4a-4eb5-f8dd-8278f92cab87"
      },
      "execution_count": null,
      "outputs": [
        {
          "output_type": "stream",
          "name": "stdout",
          "text": [
            "enter n digit no.:5\n",
            "sum of digits  5\n",
            "enter n digit no.:6\n",
            "sum of digits  6\n"
          ]
        }
      ]
    },
    {
      "cell_type": "code",
      "source": [
        "s=12345\n",
        "n=int(input(\"enter n digit no.:\"))\n",
        "while n>0:\n",
        "  d=n%10\n",
        "  s=s+d\n",
        "  n=n//10\n",
        "  print(\"sum of digits \",s)\n"
      ],
      "metadata": {
        "colab": {
          "base_uri": "https://localhost:8080/"
        },
        "id": "_mm1KVaTtW34",
        "outputId": "ad6748a4-022e-4742-dad2-5b26c124680c"
      },
      "execution_count": null,
      "outputs": [
        {
          "output_type": "stream",
          "name": "stdout",
          "text": [
            "enter n digit no.:5\n",
            "sum of digits  12350\n"
          ]
        }
      ]
    },
    {
      "cell_type": "code",
      "source": [
        "s=12345\n",
        "n=int(input(\"enter n digit no.:\"))\n",
        "while n>0:\n",
        "  d=n%10\n",
        "  s=s+d\n",
        "  n=n//10\n",
        "  print(\"sum of digits \",s)\n",
        "  s=0\n",
        "n=int(input(\"enter n digit no.:\"))\n",
        "while n>0:\n",
        "  d=n%10\n",
        "  s=s+d\n",
        "  n=n//100\n",
        "  print(\"sum of digits \",s)\n",
        "\n"
      ],
      "metadata": {
        "colab": {
          "base_uri": "https://localhost:8080/"
        },
        "id": "9bbA4--vthFh",
        "outputId": "56ff9b0f-2a2b-4df8-ebef-63ef557180f4"
      },
      "execution_count": null,
      "outputs": [
        {
          "output_type": "stream",
          "name": "stdout",
          "text": [
            "enter n digit no.:5\n",
            "sum of digits  12350\n",
            "enter n digit no.:5\n",
            "sum of digits  5\n"
          ]
        }
      ]
    },
    {
      "cell_type": "code",
      "source": [
        "r=0\n",
        "n=int(input(\"enter n digit no.:\"))\n",
        "while n>0:\n",
        "  d=n%10\n",
        "  r=r*10+d\n",
        "  n=n//10\n",
        "  print(\"revert=\",r);"
      ],
      "metadata": {
        "colab": {
          "base_uri": "https://localhost:8080/"
        },
        "id": "7R9j-Jp4ttXS",
        "outputId": "8a6271c4-7de4-4823-d123-092a653e14ae"
      },
      "execution_count": null,
      "outputs": [
        {
          "output_type": "stream",
          "name": "stdout",
          "text": [
            "enter n digit no.:5\n",
            "revert= 5\n"
          ]
        }
      ]
    },
    {
      "cell_type": "code",
      "source": [
        "r=6\n",
        "n=int(input(\"enter n digit no.:\"))\n",
        "while n>0:\n",
        "  d=n%10\n",
        "  r=r*10+d\n",
        "  n=n//10\n",
        "  print(\"revert=\",r);"
      ],
      "metadata": {
        "colab": {
          "base_uri": "https://localhost:8080/"
        },
        "id": "uZG2YsZwuVAb",
        "outputId": "a223c626-db0d-427c-9d27-f24ef6408fbe"
      },
      "execution_count": null,
      "outputs": [
        {
          "output_type": "stream",
          "name": "stdout",
          "text": [
            "enter n digit no.:5\n",
            "revert= 65\n"
          ]
        }
      ]
    },
    {
      "cell_type": "markdown",
      "source": [
        " **Python program to find the factorial of a number provided by the user**"
      ],
      "metadata": {
        "id": "Ar8KNoM6xDpl"
      }
    },
    {
      "cell_type": "markdown",
      "source": [
        " Python program to find the factorial of a number provided by the user."
      ],
      "metadata": {
        "id": "7jqVBANvxDLU"
      }
    },
    {
      "cell_type": "code",
      "source": [
        "'''change the value for a different result'''\n",
        "num = 7\n",
        "''' To take input from the user'''\n",
        "num = int(input(\"Enter a number: \"))\n",
        "factorial = 1\n",
        "'''check if the number is negative, positive or zero'''\n",
        "if num < 0:\n",
        "   print(\"Sorry, factorial does not exist for negative numbers\")\n",
        "elif num == 0:\n",
        "   print(\"The factorial of 0 is 1\")\n",
        "else:\n",
        "   for i in range(1,num + 1):\n",
        "       factorial = factorial*i\n",
        "   print(\"The factorial of\",num,\"is\",factorial)\n"
      ],
      "metadata": {
        "colab": {
          "base_uri": "https://localhost:8080/"
        },
        "id": "btDprlLow-UD",
        "outputId": "4a0739a8-02ee-42f2-b80b-5ba23f038055"
      },
      "execution_count": null,
      "outputs": [
        {
          "output_type": "stream",
          "name": "stdout",
          "text": [
            "Enter a number: 6\n",
            "The factorial of 6 is 720\n"
          ]
        }
      ]
    },
    {
      "cell_type": "markdown",
      "source": [
        "***Q)input number n & find the sum of first & last digit\n",
        "hint:12345\n",
        "sum=6***"
      ],
      "metadata": {
        "id": "2X9ABUtczIRg"
      }
    },
    {
      "cell_type": "code",
      "source": [
        "s=0\n",
        "n=int(input(\"enter n digit no:\"))\n",
        "s=s+n%10\n",
        "while(n > 10):\n",
        "     n=n//10\n",
        "     s=s+n\n",
        "      print(\"sum of first & last digit=\",s)"
      ],
      "metadata": {
        "colab": {
          "base_uri": "https://localhost:8080/",
          "height": 106
        },
        "id": "GMzMuOTPzm8u",
        "outputId": "3aec410f-00ed-42ab-dd3c-6d5897097655"
      },
      "execution_count": null,
      "outputs": [
        {
          "output_type": "error",
          "ename": "IndentationError",
          "evalue": "unexpected indent (<ipython-input-54-1aba3d3a9ce9>, line 7)",
          "traceback": [
            "\u001b[0;36m  File \u001b[0;32m\"<ipython-input-54-1aba3d3a9ce9>\"\u001b[0;36m, line \u001b[0;32m7\u001b[0m\n\u001b[0;31m    print(\"sum of first & last digit=\",s)\u001b[0m\n\u001b[0m    ^\u001b[0m\n\u001b[0;31mIndentationError\u001b[0m\u001b[0;31m:\u001b[0m unexpected indent\n"
          ]
        }
      ]
    },
    {
      "cell_type": "markdown",
      "source": [
        "**Q) input a number find number is an pallindrome or not?\n"
      ],
      "metadata": {
        "id": "2etqhwch4aKM"
      }
    },
    {
      "cell_type": "code",
      "source": [
        "r=121\n",
        "k=int(input(\"enter name or number:\"))\n",
        "if r==k:\n",
        "  print(\"its a palindrome\")\n",
        "else:\n",
        "  print(\"its not a palindrome\")\n"
      ],
      "metadata": {
        "colab": {
          "base_uri": "https://localhost:8080/"
        },
        "id": "VQmjLF696Ha-",
        "outputId": "35c9b6c5-f18a-41dd-b7cb-ef65734aee08"
      },
      "execution_count": null,
      "outputs": [
        {
          "output_type": "stream",
          "name": "stdout",
          "text": [
            "enter name or number:121\n",
            "its a palindrome\n"
          ]
        }
      ]
    },
    {
      "cell_type": "markdown",
      "source": [
        "***NESTING OF LOOPS***\n",
        "loops within a loop\n",
        "outer loop=inner loop\n",
        "for i in range(1,6):\n",
        "for j in range (1,4):\n",
        "print(i,j)\n"
      ],
      "metadata": {
        "id": "z2Bw99vmngQ0"
      }
    },
    {
      "cell_type": "markdown",
      "source": [
        "Q)\n",
        "1234\n",
        "1234\n",
        "1234\n",
        "1234"
      ],
      "metadata": {
        "id": "fxQR6gA1pbk-"
      }
    },
    {
      "cell_type": "code",
      "source": [
        "for i in range (1,5):\n",
        "  for j in range(1,5):\n",
        "    print(j,end='\\t')\n",
        "    print()\n"
      ],
      "metadata": {
        "colab": {
          "base_uri": "https://localhost:8080/"
        },
        "id": "Z0BimQrjotzn",
        "outputId": "05044428-b2d3-4d2b-fa4d-e9a0044c3249"
      },
      "execution_count": null,
      "outputs": [
        {
          "output_type": "stream",
          "name": "stdout",
          "text": [
            "1\t\n",
            "2\t\n",
            "3\t\n",
            "4\t\n",
            "1\t\n",
            "2\t\n",
            "3\t\n",
            "4\t\n",
            "1\t\n",
            "2\t\n",
            "3\t\n",
            "4\t\n",
            "1\t\n",
            "2\t\n",
            "3\t\n",
            "4\t\n"
          ]
        }
      ]
    },
    {
      "cell_type": "markdown",
      "source": [
        "Q)\n",
        "1  2  3  4\n",
        "5  6  7  8\n",
        "9  10 11 12\n",
        "13 14 15 16"
      ],
      "metadata": {
        "id": "9hOwuKZXpn-D"
      }
    },
    {
      "cell_type": "code",
      "source": [
        "for i in range (1,16):\n",
        "  for j in range(1,16):\n",
        "    print(j,end='\\t')\n",
        "    print()"
      ],
      "metadata": {
        "colab": {
          "base_uri": "https://localhost:8080/"
        },
        "id": "GERxpJPQpYq4",
        "outputId": "cf5f2902-a87a-4015-c34e-f4634793c001"
      },
      "execution_count": null,
      "outputs": [
        {
          "output_type": "stream",
          "name": "stdout",
          "text": [
            "1\t\n",
            "2\t\n",
            "3\t\n",
            "4\t\n",
            "5\t\n",
            "6\t\n",
            "7\t\n",
            "8\t\n",
            "9\t\n",
            "10\t\n",
            "11\t\n",
            "12\t\n",
            "13\t\n",
            "14\t\n",
            "15\t\n",
            "1\t\n",
            "2\t\n",
            "3\t\n",
            "4\t\n",
            "5\t\n",
            "6\t\n",
            "7\t\n",
            "8\t\n",
            "9\t\n",
            "10\t\n",
            "11\t\n",
            "12\t\n",
            "13\t\n",
            "14\t\n",
            "15\t\n",
            "1\t\n",
            "2\t\n",
            "3\t\n",
            "4\t\n",
            "5\t\n",
            "6\t\n",
            "7\t\n",
            "8\t\n",
            "9\t\n",
            "10\t\n",
            "11\t\n",
            "12\t\n",
            "13\t\n",
            "14\t\n",
            "15\t\n",
            "1\t\n",
            "2\t\n",
            "3\t\n",
            "4\t\n",
            "5\t\n",
            "6\t\n",
            "7\t\n",
            "8\t\n",
            "9\t\n",
            "10\t\n",
            "11\t\n",
            "12\t\n",
            "13\t\n",
            "14\t\n",
            "15\t\n",
            "1\t\n",
            "2\t\n",
            "3\t\n",
            "4\t\n",
            "5\t\n",
            "6\t\n",
            "7\t\n",
            "8\t\n",
            "9\t\n",
            "10\t\n",
            "11\t\n",
            "12\t\n",
            "13\t\n",
            "14\t\n",
            "15\t\n",
            "1\t\n",
            "2\t\n",
            "3\t\n",
            "4\t\n",
            "5\t\n",
            "6\t\n",
            "7\t\n",
            "8\t\n",
            "9\t\n",
            "10\t\n",
            "11\t\n",
            "12\t\n",
            "13\t\n",
            "14\t\n",
            "15\t\n",
            "1\t\n",
            "2\t\n",
            "3\t\n",
            "4\t\n",
            "5\t\n",
            "6\t\n",
            "7\t\n",
            "8\t\n",
            "9\t\n",
            "10\t\n",
            "11\t\n",
            "12\t\n",
            "13\t\n",
            "14\t\n",
            "15\t\n",
            "1\t\n",
            "2\t\n",
            "3\t\n",
            "4\t\n",
            "5\t\n",
            "6\t\n",
            "7\t\n",
            "8\t\n",
            "9\t\n",
            "10\t\n",
            "11\t\n",
            "12\t\n",
            "13\t\n",
            "14\t\n",
            "15\t\n",
            "1\t\n",
            "2\t\n",
            "3\t\n",
            "4\t\n",
            "5\t\n",
            "6\t\n",
            "7\t\n",
            "8\t\n",
            "9\t\n",
            "10\t\n",
            "11\t\n",
            "12\t\n",
            "13\t\n",
            "14\t\n",
            "15\t\n",
            "1\t\n",
            "2\t\n",
            "3\t\n",
            "4\t\n",
            "5\t\n",
            "6\t\n",
            "7\t\n",
            "8\t\n",
            "9\t\n",
            "10\t\n",
            "11\t\n",
            "12\t\n",
            "13\t\n",
            "14\t\n",
            "15\t\n",
            "1\t\n",
            "2\t\n",
            "3\t\n",
            "4\t\n",
            "5\t\n",
            "6\t\n",
            "7\t\n",
            "8\t\n",
            "9\t\n",
            "10\t\n",
            "11\t\n",
            "12\t\n",
            "13\t\n",
            "14\t\n",
            "15\t\n",
            "1\t\n",
            "2\t\n",
            "3\t\n",
            "4\t\n",
            "5\t\n",
            "6\t\n",
            "7\t\n",
            "8\t\n",
            "9\t\n",
            "10\t\n",
            "11\t\n",
            "12\t\n",
            "13\t\n",
            "14\t\n",
            "15\t\n",
            "1\t\n",
            "2\t\n",
            "3\t\n",
            "4\t\n",
            "5\t\n",
            "6\t\n",
            "7\t\n",
            "8\t\n",
            "9\t\n",
            "10\t\n",
            "11\t\n",
            "12\t\n",
            "13\t\n",
            "14\t\n",
            "15\t\n",
            "1\t\n",
            "2\t\n",
            "3\t\n",
            "4\t\n",
            "5\t\n",
            "6\t\n",
            "7\t\n",
            "8\t\n",
            "9\t\n",
            "10\t\n",
            "11\t\n",
            "12\t\n",
            "13\t\n",
            "14\t\n",
            "15\t\n",
            "1\t\n",
            "2\t\n",
            "3\t\n",
            "4\t\n",
            "5\t\n",
            "6\t\n",
            "7\t\n",
            "8\t\n",
            "9\t\n",
            "10\t\n",
            "11\t\n",
            "12\t\n",
            "13\t\n",
            "14\t\n",
            "15\t\n"
          ]
        }
      ]
    },
    {
      "cell_type": "code",
      "source": [
        "for i in range (1,16):\n",
        "  for j in range(1,16):\n",
        "    print(i,end='\\t')\n",
        "  print()"
      ],
      "metadata": {
        "colab": {
          "base_uri": "https://localhost:8080/"
        },
        "id": "EOCAAG2hrrKa",
        "outputId": "a64d7167-b35e-4ec0-9a4f-8a9ca4aafa9d"
      },
      "execution_count": null,
      "outputs": [
        {
          "output_type": "stream",
          "name": "stdout",
          "text": [
            "1\t1\t1\t1\t1\t1\t1\t1\t1\t1\t1\t1\t1\t1\t1\t\n",
            "2\t2\t2\t2\t2\t2\t2\t2\t2\t2\t2\t2\t2\t2\t2\t\n",
            "3\t3\t3\t3\t3\t3\t3\t3\t3\t3\t3\t3\t3\t3\t3\t\n",
            "4\t4\t4\t4\t4\t4\t4\t4\t4\t4\t4\t4\t4\t4\t4\t\n",
            "5\t5\t5\t5\t5\t5\t5\t5\t5\t5\t5\t5\t5\t5\t5\t\n",
            "6\t6\t6\t6\t6\t6\t6\t6\t6\t6\t6\t6\t6\t6\t6\t\n",
            "7\t7\t7\t7\t7\t7\t7\t7\t7\t7\t7\t7\t7\t7\t7\t\n",
            "8\t8\t8\t8\t8\t8\t8\t8\t8\t8\t8\t8\t8\t8\t8\t\n",
            "9\t9\t9\t9\t9\t9\t9\t9\t9\t9\t9\t9\t9\t9\t9\t\n",
            "10\t10\t10\t10\t10\t10\t10\t10\t10\t10\t10\t10\t10\t10\t10\t\n",
            "11\t11\t11\t11\t11\t11\t11\t11\t11\t11\t11\t11\t11\t11\t11\t\n",
            "12\t12\t12\t12\t12\t12\t12\t12\t12\t12\t12\t12\t12\t12\t12\t\n",
            "13\t13\t13\t13\t13\t13\t13\t13\t13\t13\t13\t13\t13\t13\t13\t\n",
            "14\t14\t14\t14\t14\t14\t14\t14\t14\t14\t14\t14\t14\t14\t14\t\n",
            "15\t15\t15\t15\t15\t15\t15\t15\t15\t15\t15\t15\t15\t15\t15\t\n"
          ]
        }
      ]
    },
    {
      "cell_type": "markdown",
      "source": [
        "***c=1\n",
        "for i in range(1,5):\n",
        "for j in range(1,5):\n",
        "print(c,end='\\t')\n",
        "c=c+1\n",
        "print()"
      ],
      "metadata": {
        "id": "jJP_ezV6rucq"
      }
    },
    {
      "cell_type": "markdown",
      "source": [
        "Q)\n",
        "1\n",
        "12\n",
        "123\n",
        "1234\n",
        "\n",
        "for i in range(1,5):\n",
        "for j in range(1,i+1):\n",
        "print(j,end='')\n",
        "print()\n"
      ],
      "metadata": {
        "id": "V91YDTs7sT14"
      }
    },
    {
      "cell_type": "code",
      "source": [
        "for i in range(1,5):\n",
        "  for j in range(1,i+1):\n",
        "    print(j,end='\\t')\n",
        "  print()\n"
      ],
      "metadata": {
        "colab": {
          "base_uri": "https://localhost:8080/"
        },
        "id": "Bd7urWzCssOQ",
        "outputId": "6f54cfd9-d0d2-48b6-f97a-ce8c42eb639c"
      },
      "execution_count": null,
      "outputs": [
        {
          "output_type": "stream",
          "name": "stdout",
          "text": [
            "1\t\n",
            "1\t2\t\n",
            "1\t2\t3\t\n",
            "1\t2\t3\t4\t\n"
          ]
        }
      ]
    },
    {
      "cell_type": "markdown",
      "source": [
        "Q)\n",
        "1\n",
        "333\n",
        "55555"
      ],
      "metadata": {
        "id": "eIvgvz0VtFNO"
      }
    },
    {
      "cell_type": "code",
      "source": [
        "for i in range(1,6,2):\n",
        "  for j in range(1,i+1,):\n",
        "    print(i,end='\\t')\n",
        "  print()"
      ],
      "metadata": {
        "colab": {
          "base_uri": "https://localhost:8080/"
        },
        "id": "CRTciS5EtN-0",
        "outputId": "0fa3b623-581c-4186-a7cb-610d958d47ff"
      },
      "execution_count": null,
      "outputs": [
        {
          "output_type": "stream",
          "name": "stdout",
          "text": [
            "1\t\n",
            "3\t3\t3\t\n",
            "5\t5\t5\t5\t5\t\n"
          ]
        }
      ]
    },
    {
      "cell_type": "markdown",
      "source": [
        "Q)\n",
        "      1\n",
        "    1 2\n",
        "  1 2 3\n",
        "1 2 3 4\n"
      ],
      "metadata": {
        "id": "YuVg_KhGvk3I"
      }
    },
    {
      "cell_type": "code",
      "source": [
        "for i in range(1,5):\n",
        "  for m in range(5,i,-1):\n",
        "    print('',end='\\t')\n",
        "  for j in range(1,i+1):\n",
        "      print(j,end='\\t')\n",
        "  print()"
      ],
      "metadata": {
        "colab": {
          "base_uri": "https://localhost:8080/"
        },
        "id": "sELjaU9iwlzX",
        "outputId": "7ae397bd-609b-44d0-af12-84ca54dac893"
      },
      "execution_count": null,
      "outputs": [
        {
          "output_type": "stream",
          "name": "stdout",
          "text": [
            "\t\t\t\t1\t\n",
            "\t\t\t1\t2\t\n",
            "\t\t1\t2\t3\t\n",
            "\t1\t2\t3\t4\t\n"
          ]
        }
      ]
    },
    {
      "cell_type": "code",
      "source": [
        "for i in range(1,5):\n",
        "  for m in range(5,i,-1):\n",
        "    print('',end='')\n",
        "  for j in range(1,i+1):\n",
        "      print(j,end='\\t')\n",
        "  print()"
      ],
      "metadata": {
        "colab": {
          "base_uri": "https://localhost:8080/"
        },
        "id": "lKWyPIwIyyXH",
        "outputId": "bfe56452-efb3-4ecc-9847-15027aa2eb15"
      },
      "execution_count": null,
      "outputs": [
        {
          "output_type": "stream",
          "name": "stdout",
          "text": [
            "1\t\n",
            "1\t2\t\n",
            "1\t2\t3\t\n",
            "1\t2\t3\t4\t\n"
          ]
        }
      ]
    },
    {
      "cell_type": "code",
      "source": [
        "for i in range(1,5):\n",
        "  for m in range(5,i,-1):\n",
        "    print( ' ',end=' \\t ')\n",
        "  for j in range(1,i+1):\n",
        "      print(\" * \",end=' \\t ')\n",
        "  print()"
      ],
      "metadata": {
        "colab": {
          "base_uri": "https://localhost:8080/"
        },
        "id": "3VS9N7w9zADl",
        "outputId": "e7a2f2ea-a862-400e-d68f-d2d7193f5004"
      },
      "execution_count": null,
      "outputs": [
        {
          "output_type": "stream",
          "name": "stdout",
          "text": [
            "  \t   \t   \t   \t  *  \t \n",
            "  \t   \t   \t  *  \t  *  \t \n",
            "  \t   \t  *  \t  *  \t  *  \t \n",
            "  \t  *  \t  *  \t  *  \t  *  \t \n"
          ]
        }
      ]
    },
    {
      "cell_type": "code",
      "source": [
        "for i in range(1,5):\n",
        "  for m in range(5,i,-1):\n",
        "    print(\"* \",end='')\n",
        "  for j in range(1,i+1):\n",
        "      print(\"* \",end='')\n",
        "  print()"
      ],
      "metadata": {
        "colab": {
          "base_uri": "https://localhost:8080/"
        },
        "id": "wpCgEYhxzffQ",
        "outputId": "1a8dbf71-0ee6-4308-c7dc-18a46338194d"
      },
      "execution_count": null,
      "outputs": [
        {
          "output_type": "stream",
          "name": "stdout",
          "text": [
            "* * * * * \n",
            "* * * * * \n",
            "* * * * * \n",
            "* * * * * \n"
          ]
        }
      ]
    },
    {
      "cell_type": "code",
      "source": [
        "for i in range(1,5):\n",
        "  for m in range(5,i,-1):\n",
        "    print(' ',end='')\n",
        "  for j in range(1,i+1):\n",
        "      print(\"* \",end='')\n",
        "\n",
        "  print()"
      ],
      "metadata": {
        "colab": {
          "base_uri": "https://localhost:8080/"
        },
        "id": "NJi62yNb0blc",
        "outputId": "4c04ab76-902c-44cf-85e0-38be005d2aa4"
      },
      "execution_count": null,
      "outputs": [
        {
          "output_type": "stream",
          "name": "stdout",
          "text": [
            "    * \n",
            "   * * \n",
            "  * * * \n",
            " * * * * \n"
          ]
        }
      ]
    },
    {
      "cell_type": "code",
      "source": [
        "for i in range(1,50):\n",
        "  for m in range(5,i,-1):\n",
        "    print(' ',end='')\n",
        "  for j in range(1,i+1):\n",
        "      print(\"* \",end='')\n",
        "\n",
        "  print()"
      ],
      "metadata": {
        "colab": {
          "base_uri": "https://localhost:8080/"
        },
        "id": "YfddsPPq1kZ1",
        "outputId": "e04961fe-0446-48ec-b902-5afe88948491"
      },
      "execution_count": null,
      "outputs": [
        {
          "output_type": "stream",
          "name": "stdout",
          "text": [
            "    * \n",
            "   * * \n",
            "  * * * \n",
            " * * * * \n",
            "* * * * * \n",
            "* * * * * * \n",
            "* * * * * * * \n",
            "* * * * * * * * \n",
            "* * * * * * * * * \n",
            "* * * * * * * * * * \n",
            "* * * * * * * * * * * \n",
            "* * * * * * * * * * * * \n",
            "* * * * * * * * * * * * * \n",
            "* * * * * * * * * * * * * * \n",
            "* * * * * * * * * * * * * * * \n",
            "* * * * * * * * * * * * * * * * \n",
            "* * * * * * * * * * * * * * * * * \n",
            "* * * * * * * * * * * * * * * * * * \n",
            "* * * * * * * * * * * * * * * * * * * \n",
            "* * * * * * * * * * * * * * * * * * * * \n",
            "* * * * * * * * * * * * * * * * * * * * * \n",
            "* * * * * * * * * * * * * * * * * * * * * * \n",
            "* * * * * * * * * * * * * * * * * * * * * * * \n",
            "* * * * * * * * * * * * * * * * * * * * * * * * \n",
            "* * * * * * * * * * * * * * * * * * * * * * * * * \n",
            "* * * * * * * * * * * * * * * * * * * * * * * * * * \n",
            "* * * * * * * * * * * * * * * * * * * * * * * * * * * \n",
            "* * * * * * * * * * * * * * * * * * * * * * * * * * * * \n",
            "* * * * * * * * * * * * * * * * * * * * * * * * * * * * * \n",
            "* * * * * * * * * * * * * * * * * * * * * * * * * * * * * * \n",
            "* * * * * * * * * * * * * * * * * * * * * * * * * * * * * * * \n",
            "* * * * * * * * * * * * * * * * * * * * * * * * * * * * * * * * \n",
            "* * * * * * * * * * * * * * * * * * * * * * * * * * * * * * * * * \n",
            "* * * * * * * * * * * * * * * * * * * * * * * * * * * * * * * * * * \n",
            "* * * * * * * * * * * * * * * * * * * * * * * * * * * * * * * * * * * \n",
            "* * * * * * * * * * * * * * * * * * * * * * * * * * * * * * * * * * * * \n",
            "* * * * * * * * * * * * * * * * * * * * * * * * * * * * * * * * * * * * * \n",
            "* * * * * * * * * * * * * * * * * * * * * * * * * * * * * * * * * * * * * * \n",
            "* * * * * * * * * * * * * * * * * * * * * * * * * * * * * * * * * * * * * * * \n",
            "* * * * * * * * * * * * * * * * * * * * * * * * * * * * * * * * * * * * * * * * \n",
            "* * * * * * * * * * * * * * * * * * * * * * * * * * * * * * * * * * * * * * * * * \n",
            "* * * * * * * * * * * * * * * * * * * * * * * * * * * * * * * * * * * * * * * * * * \n",
            "* * * * * * * * * * * * * * * * * * * * * * * * * * * * * * * * * * * * * * * * * * * \n",
            "* * * * * * * * * * * * * * * * * * * * * * * * * * * * * * * * * * * * * * * * * * * * \n",
            "* * * * * * * * * * * * * * * * * * * * * * * * * * * * * * * * * * * * * * * * * * * * * \n",
            "* * * * * * * * * * * * * * * * * * * * * * * * * * * * * * * * * * * * * * * * * * * * * * \n",
            "* * * * * * * * * * * * * * * * * * * * * * * * * * * * * * * * * * * * * * * * * * * * * * * \n",
            "* * * * * * * * * * * * * * * * * * * * * * * * * * * * * * * * * * * * * * * * * * * * * * * * \n",
            "* * * * * * * * * * * * * * * * * * * * * * * * * * * * * * * * * * * * * * * * * * * * * * * * * \n"
          ]
        }
      ]
    },
    {
      "cell_type": "markdown",
      "source": [
        "import random\n",
        "number = random,randint(1.5)\n",
        "\n",
        "player_name = input(\"hello,what's your name?\")\n",
        "number_of_guesses=0\n",
        "print('okay!'+player_name+ ' I am guessing a number between 1 and 5:')\n",
        "while number_of_guesses<3:\n",
        "guess=int(input(\"enter your guess number \" + str(number_of_guesses+1)+\" try: \"))\n",
        "\n",
        "number_of_guesses +=1\n",
        "if guess<number:\n",
        "print('your guess is too low')\n",
        "if guess>number:\n",
        "print('your guess is too high')\n",
        "if guess==number:\n",
        "break\n",
        "if guess==number:\n",
        "print('your guessed the number in' + str(number_of_guesses) + 'tries!')\n",
        "else:\n",
        "print('you did not guess the number,THE NUMBER WAS',NUMBER)\n"
      ],
      "metadata": {
        "id": "5c3UbpxD12tW"
      }
    },
    {
      "cell_type": "markdown",
      "source": [
        "GUESS WORK\n",
        "system=random no selection\n",
        "(1,10)                                          7\n",
        "secret                                              number==secret\n",
        "\n"
      ],
      "metadata": {
        "id": "GWdVCGr94fa7"
      }
    },
    {
      "cell_type": "code",
      "source": [
        "import random\n",
        "number = random.randint (1,10)\n",
        "\n",
        "player_name = input(\"hello,what's your name?\")\n",
        "number_of_guesses=0\n",
        "print('okay!'+player_name+ ' I am guessing a number between 1 and 10:')\n",
        "while number_of_guesses < 3:\n",
        "  guess = int(input(\"enter your guess number \" + str(number_of_guesses+1)+\" try: \"))\n",
        "  number_of_guesses +=1\n",
        "  if guess<number:\n",
        "    print('your guess is too low')\n",
        "  if guess>number:\n",
        "      print('your guess is too high')\n",
        "  if guess==number:\n",
        "        break\n",
        "if guess==number:\n",
        "  print('your guessed the number in' + str(number_of_guesses) + 'tries!')\n",
        "else:\n",
        "  print('you did not guess the number,the number was ',number)\n"
      ],
      "metadata": {
        "colab": {
          "base_uri": "https://localhost:8080/"
        },
        "id": "UO4USRM75pI9",
        "outputId": "fcc8dcaf-fe29-42fc-ba63-cbe841579664"
      },
      "execution_count": null,
      "outputs": [
        {
          "output_type": "stream",
          "name": "stdout",
          "text": [
            "hello,what's your name?RUDHRA\n",
            "okay!RUDHRA I am guessing a number between 1 and 10:\n",
            "enter your guess number 1 try: 5\n",
            "your guess is too high\n",
            "enter your guess number 2 try: 3\n",
            "your guess is too high\n",
            "enter your guess number 3 try: 1\n",
            "your guess is too low\n",
            "you did not guess the number,the number was  2\n"
          ]
        }
      ]
    },
    {
      "cell_type": "code",
      "source": [
        "import random\n",
        "number = random.randint (1,5)\n",
        "\n",
        "player_name = input(\"hello,what's your name?\")\n",
        "number_of_guesses=0\n",
        "print('okay!'+player_name+ ' I am guessing a number between 1 and 5:')\n",
        "while number_of_guesses < 3:\n",
        "  guess = int(input(\"enter your guess number \" + str(number_of_guesses+1)+\" try: \"))\n",
        "  number_of_guesses +=1\n",
        "  if guess<number:\n",
        "    print('your guess is too low')\n",
        "  if guess>number:\n",
        "      print('your guess is too high')\n",
        "  if guess==number:\n",
        "        break\n",
        "if guess==number:\n",
        "  print('your guessed the number in' + str(number_of_guesses) + 'tries!')\n",
        "else:\n",
        "  print('you did not guess the number,the number was ',number)\n"
      ],
      "metadata": {
        "colab": {
          "base_uri": "https://localhost:8080/"
        },
        "id": "Uttxn3xE7ugK",
        "outputId": "e930162b-05d8-406d-dff0-5804597c3f01"
      },
      "execution_count": null,
      "outputs": [
        {
          "output_type": "stream",
          "name": "stdout",
          "text": [
            "hello,what's your name?Rudhra\n",
            "okay!Rudhra I am guessing a number between 1 and 5:\n",
            "enter your guess number 1 try: 2\n",
            "your guessed the number in1tries!\n"
          ]
        }
      ]
    },
    {
      "cell_type": "code",
      "source": [
        "import random\n",
        "number = random.randint (1,100)\n",
        "\n",
        "player_name = input(\"hello,what's your name?\")\n",
        "number_of_guesses=0\n",
        "print('okay!'+player_name+ ' I am guessing a number between 1 and 100:')\n",
        "while number_of_guesses < 3:\n",
        "  guess = int(input(\"enter your guess number \" + str(number_of_guesses+1)+\" try: \"))\n",
        "  number_of_guesses +=1\n",
        "  if guess<number:\n",
        "    print('your guess is too low')\n",
        "  if guess>number:\n",
        "      print('your guess is too high')\n",
        "  if guess==number:\n",
        "        break\n",
        "if guess==number:\n",
        "  print('your guessed the number in' + str(number_of_guesses) + 'tries!')\n",
        "else:\n",
        "  print('you did not guess the number,the number was ',number)\n"
      ],
      "metadata": {
        "colab": {
          "base_uri": "https://localhost:8080/"
        },
        "id": "v7femIOf9T2T",
        "outputId": "88fb9b76-81dc-41b1-c1f4-dc0881df2c8f"
      },
      "execution_count": null,
      "outputs": [
        {
          "output_type": "stream",
          "name": "stdout",
          "text": [
            "hello,what's your name?meghana\n",
            "okay!meghana I am guessing a number between 1 and 100:\n",
            "enter your guess number 1 try: 55\n",
            "your guess is too low\n",
            "enter your guess number 2 try: 75\n",
            "your guess is too high\n",
            "enter your guess number 3 try: 65\n",
            "your guess is too low\n",
            "you did not guess the number,the number was  72\n"
          ]
        }
      ]
    },
    {
      "cell_type": "code",
      "source": [
        "String Operations:\n",
        "\n",
        "isalpha(): checks if a characters in string are alphabets\n",
        "\n",
        "isdigit(): checks if 1 characters in string are digits\n",
        "\n",
        "isalnum(): checks if all characters in string are alphabets and digits\n",
        "\n",
        "islower (): checks if all characters in string are lowercase alphabets\n",
        "\n",
        "isupper(): checks if all characters in string are uppercase alphabets\n",
        "\n",
        "startswith(): checks if string starts with a value\n",
        "\n",
        "endswith(): checks if string ends with a value\n",
        "\n",
        "conversion functions\n",
        "\n",
        "upper () converts string to uppercase\n",
        "\n",
        "lower() converts string to lowercase\n",
        "\n",
        "capitalize() converts string to uppercase\n",
        "\n",
        "swapcase() - swap cases in the string\n",
        "\n",
        "search and replace string funtions\n",
        "\n",
        "find() searches a value, returns its position\n",
        "\n",
        "replace() replace one value with another\n",
        "\n",
        "lstrip() trim the string from left\n",
        "\n",
        "rstrip() trim the string from right\n",
        "\n",
        "split() - split the string at a specified separator()\n",
        "\n",
        "function returns a numeric string for its numeric argument\n",
        "age = 25\n",
        "\n",
        "print('she is' +str(age) +'years old')\n",
        "\n",
        "chr() returns a string representing its unicode value\n",
        "\n",
        "ord('A')\n",
        "\n",
        "chr(65)\n",
        "\n",
        "print(\"\\\"hello\\\"\")\n"
      ],
      "metadata": {
        "colab": {
          "base_uri": "https://localhost:8080/",
          "height": 106
        },
        "id": "p2nOj7yB_zwb",
        "outputId": "c0c8561b-a142-401e-db24-1754da28d6ae"
      },
      "execution_count": null,
      "outputs": [
        {
          "output_type": "error",
          "ename": "SyntaxError",
          "evalue": "invalid syntax (<ipython-input-72-ab91142917d1>, line 1)",
          "traceback": [
            "\u001b[0;36m  File \u001b[0;32m\"<ipython-input-72-ab91142917d1>\"\u001b[0;36m, line \u001b[0;32m1\u001b[0m\n\u001b[0;31m    String Operations:\u001b[0m\n\u001b[0m           ^\u001b[0m\n\u001b[0;31mSyntaxError\u001b[0m\u001b[0;31m:\u001b[0m invalid syntax\n"
          ]
        }
      ]
    },
    {
      "cell_type": "code",
      "source": [
        "#String Operations:#\n",
        "str_function = \"isalpha(): checks if all characters in a string are alphabets\"\n",
        "\n",
        "print(str_function.isalpha())\n",
        "isdigit() : checks if 1 characters in string are digits\n",
        "\n",
        "isalnum() : checks if all characters in string are alphabets and digits\n",
        "\n",
        "islower() : checks if all characters in string are lowercase alphabets\n",
        "\n",
        "isupper() : checks if all characters in string are uppercase alphabets\n",
        "\n",
        "startswith() : checks if string starts with a value\n",
        "\n",
        "endswith() : checks if string ends with a value\n",
        "\n",
        "conversion functions\n",
        "\n",
        "upper () converts string to uppercase\n",
        "\n",
        "lower() converts string to lowercase\n",
        "\n",
        "capitalize() converts string to uppercase\n",
        "\n",
        "swapcase() - swap cases in the string\n",
        "\n",
        "search and replace string funtions\n",
        "\n",
        "find() searches a value, returns its position\n",
        "\n",
        "replace() replace one value with another\n",
        "\n",
        "lstrip() trim the string from left\n",
        "\n",
        "rstrip() trim the string from right\n",
        "\n",
        "split() - split the string at a specified separator()\n",
        "\n",
        "function returns a numeric string for its numeric argument\n",
        "age = 25\n",
        "\n",
        "print('she is' +str(age) +'years old')\n",
        "\n",
        "chr() returns a string representing its unicode value\n",
        "\n",
        "ord('A')\n",
        "\n",
        "chr(65)\n",
        "\n",
        "print(\"\\\"hello\\\"\")\n"
      ],
      "metadata": {
        "colab": {
          "base_uri": "https://localhost:8080/",
          "height": 106
        },
        "id": "n5os9rc1KVjB",
        "outputId": "3cd2ca42-3ed6-431e-c3ad-5a0cc936f806"
      },
      "execution_count": null,
      "outputs": [
        {
          "output_type": "error",
          "ename": "SyntaxError",
          "evalue": "expected 'else' after 'if' expression (<ipython-input-1-9620ed18e505>, line 5)",
          "traceback": [
            "\u001b[0;36m  File \u001b[0;32m\"<ipython-input-1-9620ed18e505>\"\u001b[0;36m, line \u001b[0;32m5\u001b[0m\n\u001b[0;31m    isdigit(): checks if 1 characters in string are digits\u001b[0m\n\u001b[0m               ^\u001b[0m\n\u001b[0;31mSyntaxError\u001b[0m\u001b[0;31m:\u001b[0m expected 'else' after 'if' expression\n"
          ]
        }
      ]
    },
    {
      "cell_type": "markdown",
      "source": [
        "LIST\n",
        "\n",
        "In Python, a list is a collection of items that can be of different data types.\n",
        "\n",
        "APEND=TO ADD AT THE END\n",
        "\n",
        "PUSH\n",
        "POP\n",
        "LIST\n",
        "\n",
        "\n",
        "\n",
        "\n"
      ],
      "metadata": {
        "id": "owN23JBvO7vO"
      }
    },
    {
      "cell_type": "code",
      "source": [
        "marks=[98,90]\n",
        "k=0\n",
        "for i in range (0,4):\n",
        "  k=input('enter new marks')\n",
        "  marks.append(int (k))\n",
        "print(marks)\n",
        "for i in range(0,6):\n",
        "    print(marks[i])\n",
        "print(\"marks obtained after the grace number added\")\n",
        "for i in range(0,6):\n",
        "     marks [i]+=1\n",
        "     print(marks[i])\n"
      ],
      "metadata": {
        "id": "CTQc3U9WO9fC",
        "colab": {
          "base_uri": "https://localhost:8080/"
        },
        "outputId": "be4e7a05-50c6-4691-995c-814dca1fd439"
      },
      "execution_count": null,
      "outputs": [
        {
          "output_type": "stream",
          "name": "stdout",
          "text": [
            "enter new marks90\n",
            "enter new marks95\n",
            "enter new marks89\n",
            "enter new marks75\n",
            "[98, 90, 90, 95, 89, 75]\n",
            "98\n",
            "90\n",
            "90\n",
            "95\n",
            "89\n",
            "75\n",
            "marks obtained after the grace number added\n",
            "99\n",
            "91\n",
            "91\n",
            "96\n",
            "90\n",
            "76\n"
          ]
        }
      ]
    },
    {
      "cell_type": "code",
      "source": [
        "import random\n",
        "a=[]\n",
        "i=1\n",
        "while(i<=20):\n",
        " num = random.randit (10,100)\n",
        " a.append(num)\n",
        " i=i+1\n",
        "print(a)\n",
        "for num in a:\n",
        "  if num>20 and num<50:\n",
        "    a.remove(num)\n",
        "print(a)\n"
      ],
      "metadata": {
        "colab": {
          "base_uri": "https://localhost:8080/",
          "height": 211
        },
        "id": "8Z9Q9ZGT5mhK",
        "outputId": "8ec6bc2c-c811-46cc-f822-b3376fc639a7"
      },
      "execution_count": null,
      "outputs": [
        {
          "output_type": "error",
          "ename": "AttributeError",
          "evalue": "module 'random' has no attribute 'randit'",
          "traceback": [
            "\u001b[0;31m---------------------------------------------------------------------------\u001b[0m",
            "\u001b[0;31mAttributeError\u001b[0m                            Traceback (most recent call last)",
            "\u001b[0;32m<ipython-input-6-52e3a7721007>\u001b[0m in \u001b[0;36m<cell line: 4>\u001b[0;34m()\u001b[0m\n\u001b[1;32m      3\u001b[0m \u001b[0mi\u001b[0m\u001b[0;34m=\u001b[0m\u001b[0;36m1\u001b[0m\u001b[0;34m\u001b[0m\u001b[0;34m\u001b[0m\u001b[0m\n\u001b[1;32m      4\u001b[0m \u001b[0;32mwhile\u001b[0m\u001b[0;34m(\u001b[0m\u001b[0mi\u001b[0m\u001b[0;34m<=\u001b[0m\u001b[0;36m20\u001b[0m\u001b[0;34m)\u001b[0m\u001b[0;34m:\u001b[0m\u001b[0;34m\u001b[0m\u001b[0;34m\u001b[0m\u001b[0m\n\u001b[0;32m----> 5\u001b[0;31m  \u001b[0mnum\u001b[0m\u001b[0;34m=\u001b[0m\u001b[0mrandom\u001b[0m\u001b[0;34m.\u001b[0m\u001b[0mrandit\u001b[0m\u001b[0;34m(\u001b[0m\u001b[0;36m10\u001b[0m\u001b[0;34m,\u001b[0m\u001b[0;36m100\u001b[0m\u001b[0;34m)\u001b[0m\u001b[0;34m\u001b[0m\u001b[0;34m\u001b[0m\u001b[0m\n\u001b[0m\u001b[1;32m      6\u001b[0m  \u001b[0ma\u001b[0m\u001b[0;34m.\u001b[0m\u001b[0mappend\u001b[0m\u001b[0;34m(\u001b[0m\u001b[0mnum\u001b[0m\u001b[0;34m)\u001b[0m\u001b[0;34m\u001b[0m\u001b[0;34m\u001b[0m\u001b[0m\n\u001b[1;32m      7\u001b[0m  \u001b[0mi\u001b[0m\u001b[0;34m=\u001b[0m\u001b[0mi\u001b[0m\u001b[0;34m+\u001b[0m\u001b[0;36m1\u001b[0m\u001b[0;34m\u001b[0m\u001b[0;34m\u001b[0m\u001b[0m\n",
            "\u001b[0;31mAttributeError\u001b[0m: module 'random' has no attribute 'randit'"
          ]
        }
      ]
    },
    {
      "cell_type": "markdown",
      "source": [
        "***Write a python script to find greatest number in the list of integers given by user***"
      ],
      "metadata": {
        "id": "IZ46HvtQ-BaE"
      }
    },
    {
      "cell_type": "code",
      "source": [
        "list1=[5,6,9,8,10,22,69,52]\n",
        "\n",
        "list1.sort()\n",
        "\n",
        "print(\"greatest number is :\", list1[-1])\n"
      ],
      "metadata": {
        "colab": {
          "base_uri": "https://localhost:8080/"
        },
        "id": "w_gHR8lJ7ofz",
        "outputId": "00e23a1b-72b5-4e92-e708-794db9b71fb3"
      },
      "execution_count": null,
      "outputs": [
        {
          "output_type": "stream",
          "name": "stdout",
          "text": [
            "greatest number is : 69\n"
          ]
        }
      ]
    },
    {
      "cell_type": "markdown",
      "source": [
        "***Write a python script to sort a list given by user***"
      ],
      "metadata": {
        "id": "y_M6x3XH-UL5"
      }
    },
    {
      "cell_type": "code",
      "source": [
        "list"
      ],
      "metadata": {
        "colab": {
          "base_uri": "https://localhost:8080/"
        },
        "id": "pVbM5arl8_a5",
        "outputId": "6fa9028c-8b30-47c9-ca1f-902ca4750995"
      },
      "execution_count": null,
      "outputs": [
        {
          "output_type": "stream",
          "name": "stdout",
          "text": [
            "Largest element is: 99\n"
          ]
        }
      ]
    },
    {
      "cell_type": "markdown",
      "source": [
        "***\n",
        "tuple: is a sequence\n",
        "in list we use subscript []\n",
        "in tuple we use ()\n",
        "in list we can change (mutable)\n",
        "but in tuple there is no change (immutable)\n",
        "***\n",
        "A tuple is a finite, ordered list of elements, or mathematical objects, called elements of the tuple.\n",
        "***\n",
        "There are a number of cases where you want to store data which is imutable\n",
        "\n",
        ": for instance the RGB values of a given colour, or the co-ordinates of a given map square.\n",
        "\n",
        "It makes sense\n",
        "for a programmer to use immutable structure\n",
        "when the data should be immutable. How to create tuple:\n",
        "how to create tuple:\n",
        "t=()\n",
        "is a empty tuple\n",
        "but when t=[10,]\n",
        "it is a tuple\n",
        "***"
      ],
      "metadata": {
        "id": "Jg7jjJ-6-vkO"
      }
    },
    {
      "cell_type": "markdown",
      "source": [
        "***\n",
        "t = (10,5.7,\"xyz\")\n",
        "t[0] =>10\n",
        "t[1]> 5.7\n",
        "t[2] => xyz\n",
        "t[3]=> error\n",
        "how to access tuple elements\n",
        "loop or slicing operator\n",
        "t=(10,20,30,40,50)\n",
        "1-0\n",
        "while i<len(t):\n",
        "print(t[i])\n",
        "1+-1\n",
        "***"
      ],
      "metadata": {
        "id": "V8_tdJ_g_8Qr"
      }
    },
    {
      "cell_type": "markdown",
      "source": [
        "***\n",
        "using for loop for i in t: print(i) // print square of all elements for i int t: print(ii)\n",
        "slicing operator\n",
        "everytime we use slicing on tuple, it will create a new tuple it will not change in existing tuple\n",
        "t (10,20,30,40)\n",
        "t[0::]\n",
        "(10,20,30,40)\n",
        "(beg:end: step] / step value by default increment by 1\n",
        "\n",
        "t=t+(100,200)\n",
        "t=(10,20,30,40,100,200)\n",
        "t[0: :\n",
        "***"
      ],
      "metadata": {
        "id": "B6OzgY07AICR"
      }
    },
    {
      "cell_type": "markdown",
      "source": [
        "packing and un packing in tuple\n",
        "a = 10\n",
        "b = 20\n",
        "C = 30\n",
        "d=(a,b,c) // packing\n",
        "x,y,zed // un packing\n",
        "\n",
        "concatenation operator\n",
        "\n",
        "a-1,2,3\n",
        "b=4,5,6\n",
        "a+b\n",
        "{1,2,3,4,5,6}\n",
        "\n",
        "note: a and b never changed it just\n",
        "GLO\n",
        "1\n"
      ],
      "metadata": {
        "id": "wBJwXqZlAu8L"
      }
    },
    {
      "cell_type": "code",
      "source": [
        "#tuple operations\n",
        "t=(10,20,30,40,30)\n",
        "t=t+(110,220,30)\n",
        "print(t)\n",
        "k=len(t)\n",
        "print('length = ',k)\n",
        "\n",
        "print('highest element = ', max(t))\n",
        "print('lowest element = ',min(t))\n",
        "print('sorted elements of tuple', sorted(t))\n",
        "print('total sum of all elements are = ',sum(t))\n",
        "print('element 30 found at = ', t.index (30))\n",
        "print('element 30 appears in tuple = ',t.count(30),' times')\n"
      ],
      "metadata": {
        "colab": {
          "base_uri": "https://localhost:8080/"
        },
        "id": "Pe9TKI8lJTML",
        "outputId": "566c7896-b3d3-4af2-b498-ea2ad489d190"
      },
      "execution_count": null,
      "outputs": [
        {
          "output_type": "stream",
          "name": "stdout",
          "text": [
            "(10, 20, 30, 40, 30, 110, 220, 30)\n",
            "length =  8\n",
            "highest element =  220\n",
            "lowest element =  10\n",
            "sorted elements of tuple [10, 20, 30, 30, 30, 40, 110, 220]\n",
            "total sum of all elements are =  490\n",
            "element 30 found at =  2\n",
            "element 30 appears in tuple =  3  times\n"
          ]
        }
      ]
    },
    {
      "cell_type": "code",
      "source": [
        "x=eval(input('enter a tuple'))\n",
        "for i in x:\n",
        "  print(i)\n",
        "\n"
      ],
      "metadata": {
        "colab": {
          "base_uri": "https://localhost:8080/",
          "height": 228
        },
        "id": "z9uE-pukLudt",
        "outputId": "79e29b95-a400-437c-e7be-4d71ed92ca02"
      },
      "execution_count": null,
      "outputs": [
        {
          "name": "stdout",
          "output_type": "stream",
          "text": [
            "enter a tuple10\n"
          ]
        },
        {
          "output_type": "error",
          "ename": "TypeError",
          "evalue": "'int' object is not iterable",
          "traceback": [
            "\u001b[0;31m---------------------------------------------------------------------------\u001b[0m",
            "\u001b[0;31mTypeError\u001b[0m                                 Traceback (most recent call last)",
            "\u001b[0;32m<ipython-input-20-9183d52ec01e>\u001b[0m in \u001b[0;36m<cell line: 2>\u001b[0;34m()\u001b[0m\n\u001b[1;32m      1\u001b[0m \u001b[0mx\u001b[0m\u001b[0;34m=\u001b[0m\u001b[0meval\u001b[0m\u001b[0;34m(\u001b[0m\u001b[0minput\u001b[0m\u001b[0;34m(\u001b[0m\u001b[0;34m'enter a tuple'\u001b[0m\u001b[0;34m)\u001b[0m\u001b[0;34m)\u001b[0m\u001b[0;34m\u001b[0m\u001b[0;34m\u001b[0m\u001b[0m\n\u001b[0;32m----> 2\u001b[0;31m \u001b[0;32mfor\u001b[0m \u001b[0mi\u001b[0m \u001b[0;32min\u001b[0m \u001b[0mx\u001b[0m\u001b[0;34m:\u001b[0m\u001b[0;34m\u001b[0m\u001b[0;34m\u001b[0m\u001b[0m\n\u001b[0m\u001b[1;32m      3\u001b[0m   \u001b[0mprint\u001b[0m\u001b[0;34m(\u001b[0m\u001b[0mi\u001b[0m\u001b[0;34m)\u001b[0m\u001b[0;34m\u001b[0m\u001b[0;34m\u001b[0m\u001b[0m\n\u001b[1;32m      4\u001b[0m \u001b[0;34m\u001b[0m\u001b[0m\n\u001b[1;32m      5\u001b[0m \u001b[0;34m\u001b[0m\u001b[0m\n",
            "\u001b[0;31mTypeError\u001b[0m: 'int' object is not iterable"
          ]
        }
      ]
    },
    {
      "cell_type": "code",
      "source": [
        "# store 3 records in tuple and print the same\n",
        "data=(('meera', 21,98.55), ('raghav',20,99.0), ('amit', 21,95.5))\n",
        "for n,a,m in data:\n",
        "  print('name=',n,' ', 'age = ',a ,'','marks = ',m)\n"
      ],
      "metadata": {
        "colab": {
          "base_uri": "https://localhost:8080/"
        },
        "id": "aZF-oxf2NJPw",
        "outputId": "375e205c-ddce-4d77-af59-1d70297a778f"
      },
      "execution_count": null,
      "outputs": [
        {
          "output_type": "stream",
          "name": "stdout",
          "text": [
            "name= meera   age =  21  marks =  98.55\n",
            "name= raghav   age =  20  marks =  99.0\n",
            "name= amit   age =  21  marks =  95.5\n"
          ]
        }
      ]
    },
    {
      "cell_type": "markdown",
      "source": [
        "***06/04/2024***"
      ],
      "metadata": {
        "id": "AvLNGUO-3sNf"
      }
    },
    {
      "cell_type": "code",
      "source": [
        "words={} #empty dictionary\n",
        "l =['a','b', 'c', 'd']\n",
        "for x in l:\n",
        "  print(\"Enter word for letter\",x)\n",
        "  words [x] =input()\n",
        "print(words)\n"
      ],
      "metadata": {
        "colab": {
          "base_uri": "https://localhost:8080/"
        },
        "id": "E6lNm0F1yHo_",
        "outputId": "7a37c670-2b8f-4ba4-877f-41831cc77cd7"
      },
      "execution_count": null,
      "outputs": [
        {
          "output_type": "stream",
          "name": "stdout",
          "text": [
            "Enter word for letter a\n",
            "meghana\n",
            "Enter word for letter b\n",
            "rudhra\n",
            "Enter word for letter c\n",
            "ammulu\n",
            "Enter word for letter d\n",
            "ammu\n",
            "{'a': 'meghana', 'b': 'rudhra', 'c': 'ammulu', 'd': 'ammu'}\n"
          ]
        }
      ]
    },
    {
      "cell_type": "markdown",
      "source": [
        "#creation of dictionary:\n",
        "\n",
        "Dictionary\n",
        "Dictionaries are used to store data values in key:value pairs.\n",
        "\n",
        "  roll, name => we have to create a key with its value. each element in dict is a pair of key and value such as roll is a key as it must not be same but name is the value which may same\n",
        "  for each key.\n",
        "  key --- value\n",
        "  1. key must be unique\n",
        "  2. value can be repeat\n",
        "  3. key and value may be hetrogeneous\n",
        "  4. key and value may be any type\n",
        "  5. indexing is not possible\n",
        "  6. slicing operator do not work here.\n",
        "  7. cannot gurantee of orderof storage of key-value in the dictionary.\n",
        "  8. dictionary is mutable, ie. we can add, delete, edit\n",
        "  9. it can grow or shrink\n",
        "\n",
        "d= () empty dictionary\n",
        "or\n",
        "d=dict() // method // constructor\n",
        "dict with value:\n",
        "d={100:'amit', 101: 'rahul', 102: 'meera'}\n",
        "we can keep key as string\n",
        "d={'A': \"apple\", \"B\": \"ball\")\n",
        "or\n",
        "ddict (one=\"Delhi\", two=\"Mumbai\")\n",
        "#here above dict is a method (constructor) in which we dont give #single quote on key value.\n",
        "access of dictionary value:==>\n",
        "d[:one'] // it will print Delhi\n",
        "d={1:'A',2: 'B',3: 'C'}\n",
        "d[4]='D'\n",
        "now D is added at last\n",
        "now if, we write:\n",
        "d[1]='x' then in dict key can not be duplicated.\n",
        "then it replace / edit the d[1] key with 'x' which was old 'A'\n",
        "then when we print d it will print 1:'x'....\n",
        "access all elements of dict: for k in d: print('key', k, 'value =',d[k]) #in k, key values are copy in k one by one\n"
      ],
      "metadata": {
        "id": "J-nSh9lH1xHa"
      }
    },
    {
      "cell_type": "markdown",
      "source": [
        "Q)create a dictionary called students containing names and ages. copy the dictionary into stud.\n",
        "empty the students dictionary, as stud continues to hold the data."
      ],
      "metadata": {
        "id": "kK-UWfJa5SEE"
      }
    },
    {
      "cell_type": "code",
      "source": [
        "# How to remove key in dict:\n",
        "del('c') # error\n",
        "del (words['c']) # del (dictionary-name [key])\n",
        "functions\n",
        "words.clear()\n",
        "now words will be empty\n",
        "copy:\n",
        "d={1:'a',2: 'b'}\n",
        "d1= d.copy()\n",
        "dl is a shallow copy is just a name which implies as it is copy d to di so, they both are different location, to prove this, write: dis dl (it will produce, false)\n",
        "fromkeys():\n",
        "1st=[1,2,3]\n",
        "d. fromkeys (1st, \"ABC\")\n",
        "so, (1:\"ABC\",2:\"ABC\", 3: \"ABC\"}\n",
        "but not change in d\n",
        "hence, we have to write:\n",
        "d2=d.fromkeys (1, \"abc\")\n",
        "now d2 has all these\n",
        "get ():\n",
        "d2.get(2) # d2 [2]\n"
      ],
      "metadata": {
        "id": "os0UEIcm1DqU"
      },
      "execution_count": null,
      "outputs": []
    },
    {
      "cell_type": "code",
      "source": [
        "#create a dict for name and contacts and print it in appropriate format\n",
        "contacts={\n",
        "'amit': 9811665544, 'suman':889977656, 'rishi':999997655, 'gaurav':9654334455}\n",
        "for name, cellno in contacts.items():\n",
        "  print (f' {name:15}:{cellno:10d}')\n",
        "\n"
      ],
      "metadata": {
        "colab": {
          "base_uri": "https://localhost:8080/"
        },
        "id": "2WtZ7BDn869h",
        "outputId": "150ee4ce-43d3-40da-df9f-14a06da0e493"
      },
      "execution_count": null,
      "outputs": [
        {
          "output_type": "stream",
          "name": "stdout",
          "text": [
            " amit           :9811665544\n",
            " suman          : 889977656\n",
            " rishi          : 999997655\n",
            " gaurav         :9654334455\n"
          ]
        }
      ]
    },
    {
      "cell_type": "code",
      "source": [
        "r,l,b=1.5678,10.5,12.55\n",
        "print('radius={0} length ={1} breadth={2}'.format(r,l,b))\n",
        "print('length={1} breadth={2} radius={0}'.format(r,l,b))\n"
      ],
      "metadata": {
        "colab": {
          "base_uri": "https://localhost:8080/"
        },
        "id": "pOJHZrAz-HT9",
        "outputId": "02fb881d-f470-40fe-ca9f-72a0c518521e"
      },
      "execution_count": null,
      "outputs": [
        {
          "output_type": "stream",
          "name": "stdout",
          "text": [
            "radius=1.5678 length =10.5 breadth=12.55\n",
            "length=10.5 breadth=12.55 radius=1.5678\n"
          ]
        }
      ]
    },
    {
      "cell_type": "code",
      "source": [
        "#nested dict\n",
        "\n",
        "d={\n",
        "    'rishi':{'salary': 10000, 'age':20, 'height':6},\n",
        "    'vikas':{'salary': 6000, 'age': 21, 'height':5.6},\n",
        "    'gaurav':{'salary': 8000, 'age': 22, 'height':6.4}\n",
        "    }\n",
        "lst=[]\n",
        "for v in d.values():\n",
        "  print (v)\n",
        "  lst.append(v['salary'])\n",
        "print(\"list element \"+str(lst))\n",
        "print(\"sum total of salary = rishi + vikas + gaurav \")\n",
        "\n",
        "print(max (lst))\n",
        "print (min (lst))\n",
        "print(sum(lst))\n",
        "for t in d.keys():\n",
        "\n",
        "  print(t)"
      ],
      "metadata": {
        "colab": {
          "base_uri": "https://localhost:8080/"
        },
        "id": "AjN0yZFL_bOy",
        "outputId": "96ad5872-ee86-405f-8eff-b071df4db8eb"
      },
      "execution_count": null,
      "outputs": [
        {
          "output_type": "stream",
          "name": "stdout",
          "text": [
            "{'salary': 10000, 'age': 20, 'height': 6}\n",
            "{'salary': 6000, 'age': 21, 'height': 5.6}\n",
            "{'salary': 8000, 'age': 22, 'height': 6.4}\n",
            "list element [10000, 6000, 8000]\n",
            "sum total of salary = rishi + vikas + gaurav \n",
            "10000\n",
            "6000\n",
            "24000\n",
            "rishi\n",
            "vikas\n",
            "gaurav\n"
          ]
        }
      ]
    },
    {
      "cell_type": "code",
      "source": [
        "#dict ascending and desceding printint on key ?\n",
        "\n",
        "d={'pen':20, 'pencil':10, 'ink':50, 'notebook':35}\n",
        "print('original dictionary:',d)\n",
        "d1=sorted (d.items())\n",
        "print('ascending order by key',d1)\n",
        "d2=sorted (d.items(),reverse=True)\n",
        "print('descending order by key:',d2)\n"
      ],
      "metadata": {
        "colab": {
          "base_uri": "https://localhost:8080/"
        },
        "id": "ahp73DhPGBFS",
        "outputId": "8e7c2332-f5e6-46e2-c1ae-c9c5143fbac6"
      },
      "execution_count": null,
      "outputs": [
        {
          "output_type": "stream",
          "name": "stdout",
          "text": [
            "original dictionary: {'pen': 20, 'pencil': 10, 'ink': 50, 'notebook': 35}\n",
            "ascending order by key [('ink', 50), ('notebook', 35), ('pen', 20), ('pencil', 10)]\n",
            "descending order by key: [('pencil', 10), ('pen', 20), ('notebook', 35), ('ink', 50)]\n"
          ]
        }
      ]
    },
    {
      "cell_type": "code",
      "source": [
        "#takes something & returns nothing\n",
        "def sum(i,j):\n",
        "  c=i+j\n",
        "  print(\"sum = \",c)\n",
        "\n",
        "x=int(input('enter first value '))\n",
        "y=int(input('enter second value'))\n",
        "sum (x,y)\n",
        "print('calling second time ')\n",
        "x=int(input('enter first value '))\n",
        "y=int(input('enter second value'))\n",
        "sum (x,y)\n",
        "\n",
        "'''\n",
        "1. calculate square of a number\n",
        "2. swap of a number\n",
        "3. find the greatest of two numbers\n",
        "'''"
      ],
      "metadata": {
        "colab": {
          "base_uri": "https://localhost:8080/",
          "height": 174
        },
        "id": "iXhRDxlHMAEn",
        "outputId": "a61acb9f-fbd1-4caf-9faf-f7d2a5d8f0fe"
      },
      "execution_count": null,
      "outputs": [
        {
          "output_type": "stream",
          "name": "stdout",
          "text": [
            "enter first value 9\n",
            "enter second value5\n",
            "sum =  14\n",
            "calling second time \n",
            "i>=j or j>=i\n",
            "enter first value 5\n",
            "enter second value4\n",
            "sum =  9\n"
          ]
        },
        {
          "output_type": "execute_result",
          "data": {
            "text/plain": [
              "'\\n1. calculate square of a number\\n2. swap of a number\\n3. find the greatest of two numbers\\n'"
            ],
            "application/vnd.google.colaboratory.intrinsic+json": {
              "type": "string"
            }
          },
          "metadata": {},
          "execution_count": 32
        }
      ]
    },
    {
      "cell_type": "code",
      "source": [
        "#takes something and returns something\n",
        "def add(i,j):\n",
        "  k = i+j\n",
        "  return (k)\n",
        "\n",
        "i=int(input('enter first number'))\n",
        "j=int(input('enter second number'))\n",
        "p=add(i,j) # here, x and y are treated as an parameters or an arguments.\n",
        "print('sum=',p)\n"
      ],
      "metadata": {
        "colab": {
          "base_uri": "https://localhost:8080/"
        },
        "id": "LQ4cdGSONpr-",
        "outputId": "bd45cb03-4aaf-4037-b63b-8bc90cdfe921"
      },
      "execution_count": null,
      "outputs": [
        {
          "output_type": "stream",
          "name": "stdout",
          "text": [
            "enter first number17\n",
            "enter second number10\n",
            "sum= 27\n"
          ]
        }
      ]
    },
    {
      "cell_type": "code",
      "source": [
        "#function with example of takes nothing and returns nothing\n",
        "def add():\n",
        "  a=int(input('enter first number'))\n",
        "  b=int(input('enter second number'))\n",
        "  c=a+b\n",
        "  print('sum=',c)\n",
        "add() #function called\n",
        "print('second time i am calling add')\n",
        "add ()\n",
        "print('third time i am calling add')\n",
        "add ()\n"
      ],
      "metadata": {
        "colab": {
          "base_uri": "https://localhost:8080/"
        },
        "id": "5UE7C70ePDHO",
        "outputId": "231d79cf-56ac-4fd4-a2f2-9bc05113f30e"
      },
      "execution_count": null,
      "outputs": [
        {
          "output_type": "stream",
          "name": "stdout",
          "text": [
            "enter first number17\n",
            "enter second number20\n",
            "sum= 37\n",
            "second time i am calling add\n",
            "enter first number40\n",
            "enter second number60\n",
            "sum= 100\n",
            "third time i am calling add\n",
            "enter first number55\n",
            "enter second number55\n",
            "sum= 110\n"
          ]
        }
      ]
    },
    {
      "cell_type": "code",
      "source": [
        "def comp(a,b):\n",
        "  if(a>b):\n",
        "        print('A is greater')\n",
        "  elif (b>a):\n",
        "      print('B is greater')\n",
        "  else:\n",
        "      print('The values of A and B is the same')\n",
        "a=int(input(\"Enter the value for A:\"))\n",
        "b=int(input(\"Enter the value FOR B:\"))\n",
        "comp (a,b)\n",
        "a=int(input(\"Enter the value for A:\"))\n",
        "b=int(input(\"Enter the value FOR B:\"))\n",
        "print('Calling the comp function for the second time')\n",
        "comp(a,b)\n"
      ],
      "metadata": {
        "colab": {
          "base_uri": "https://localhost:8080/"
        },
        "id": "-RP0eaptPok6",
        "outputId": "2ae7e3a9-e26d-4975-b5d9-f51ef7aa926e"
      },
      "execution_count": null,
      "outputs": [
        {
          "output_type": "stream",
          "name": "stdout",
          "text": [
            "Enter the value for A:5\n",
            "Enter the value FOR B:5\n",
            "The values of A and B is the same\n",
            "Enter the value for A:4\n",
            "Enter the value FOR B:7\n",
            "Calling the comp function for the second time\n",
            "B is greater\n"
          ]
        }
      ]
    },
    {
      "cell_type": "markdown",
      "source": [
        "***file handeling***\n",
        "-2 types of files\n",
        "*text file\n",
        "*binary file\n",
        "-binary file for video,audio,image editing\n",
        "-text file for .txt,.dat,.py files\n",
        "\n",
        "-steps of file handeling\n",
        "1)open a file\n",
        "2)processing(reading/writing)\n",
        "3)close file\n",
        "\n",
        "-open\n",
        "open(file-name,mode):filename is string and mode is also string,\n",
        "file name will create a file in the current directed by default.\n",
        "open ('e:\\myfile\\pythonprograms\\stock.txt','r')\n",
        "\n",
        "-modes of file\n",
        "r,w,a,r+,w+,a+,x\n",
        "r=reading only(file already exists open read)\n",
        "w=write only(file created open data would vanish....write new)\n"
      ],
      "metadata": {
        "id": "R1VfnFgx7viG"
      }
    },
    {
      "cell_type": "code",
      "source": [
        "msg1=\"do python----\\n\"\n",
        "msg2=\"to become a free bird-----\\n\"\n",
        "msg3=input(\"enter few lines about yourself\")\n",
        "f=open('hello.txt','w')\n",
        "f.write(msg1)\n",
        "f.write(msg2)\n",
        "f.write(msg3)\n",
        "\n",
        "f.close()\n",
        "\n",
        "f=open('hello.txt','r')\n",
        "datal=f.read()\n",
        "print(datal)\n",
        "f.close()\n"
      ],
      "metadata": {
        "id": "4bGHsbxXQnXj",
        "colab": {
          "base_uri": "https://localhost:8080/"
        },
        "outputId": "b2b74ac2-1712-4429-de5c-d444fd414eae"
      },
      "execution_count": null,
      "outputs": [
        {
          "output_type": "stream",
          "name": "stdout",
          "text": [
            "enter few lines about yourselfmy name is meghana. i m purcuing BCA 2nd sem\n",
            "do python----\n",
            "to become a free bird-----\n",
            "my name is meghana. i m purcuing BCA 2nd sem\n"
          ]
        }
      ]
    },
    {
      "cell_type": "markdown",
      "source": [
        "'''\n",
        "write a file copy program in python, content of file 1 to be copied to file 2\n",
        "'''"
      ],
      "metadata": {
        "id": "KU_23PwX_vWP"
      }
    },
    {
      "cell_type": "code",
      "source": [
        "msg1=\"do python----\\n\"\n",
        "msg2=\"to become a free bird-----\\n\"\n",
        "msg3=input(\"enter few lines about yourself\")\n",
        "f=open('hello.txt','w')\n",
        "f.write(msg1)\n",
        "f.write(msg2)\n",
        "f.write(msg3)\n",
        "\n",
        "f.close()\n",
        "\n",
        "f=open('hello.txt','r')\n",
        "datal=f.read()\n",
        "print(datal)\n",
        "f.close()\n",
        "\n",
        "msg1a=\"do python----\\n\"\n",
        "msg2b=\"to become a free bird-----\\n\"\n",
        "msg3c=input(\"msg3\")\n",
        "f=open('hello.txt','w')\n",
        "f.write(msg1a)\n",
        "f.write(msg2b)\n",
        "f.write(msg3c)\n",
        "\n",
        "f.close()\n",
        "\n",
        "f=open('hello.txt','r')\n",
        "datal=f.read()\n",
        "print(datal)\n",
        "f.close()"
      ],
      "metadata": {
        "colab": {
          "base_uri": "https://localhost:8080/"
        },
        "id": "5p66fJ5E-5zc",
        "outputId": "17a27a05-50a3-4833-9caa-22db0abe773a"
      },
      "execution_count": null,
      "outputs": [
        {
          "output_type": "stream",
          "name": "stdout",
          "text": [
            "enter few lines about yourselfmeghana\n",
            "do python----\n",
            "to become a free bird-----\n",
            "meghana\n",
            "msg3travelling\n",
            "do python----\n",
            "to become a free bird-----\n",
            "travelling\n"
          ]
        }
      ]
    },
    {
      "cell_type": "code",
      "source": [
        "def copy_file_content(source_file, target_file):\n",
        "    try:\n",
        "        with open(source_file, 'r') as source:\n",
        "            content = source.read()\n",
        "            with open(target_file, 'w') as target:\n",
        "                target.write(content)\n",
        "        print(f\"Content from '{source_file}' has been copied to '{target_file}'.\")\n",
        "    except FileNotFoundError:\n",
        "        print(\"Error: One or both files not found.\")\n",
        "\n",
        "# Usage example\n",
        "source_filename = 'file1.txt'\n",
        "target_filename = 'file2.txt'\n",
        "copy_file_content(source_filename, target_filename)\n"
      ],
      "metadata": {
        "colab": {
          "base_uri": "https://localhost:8080/"
        },
        "id": "LUybvaj0BPpY",
        "outputId": "be378ad4-0e3d-47bc-c6d1-125042bc0b1c"
      },
      "execution_count": null,
      "outputs": [
        {
          "output_type": "stream",
          "name": "stdout",
          "text": [
            "Error: One or both files not found.\n"
          ]
        }
      ]
    }
  ]
}